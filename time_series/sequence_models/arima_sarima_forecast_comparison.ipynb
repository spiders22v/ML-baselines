{
 "cells": [
  {
   "cell_type": "code",
   "execution_count": null,
   "metadata": {},
   "outputs": [],
   "source": []
  }
 ],
 "metadata": {
  "kernelspec": {
   "display_name": "py311_pt231",
   "language": "python",
   "name": "py311_pt231"
  }
 },
 "nbformat": 4,
 "nbformat_minor": 2
}
