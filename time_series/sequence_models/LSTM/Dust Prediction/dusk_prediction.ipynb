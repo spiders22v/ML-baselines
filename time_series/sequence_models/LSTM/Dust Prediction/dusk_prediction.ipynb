{
  "nbformat": 4,
  "nbformat_minor": 0,
  "metadata": {
    "colab": {
      "provenance": [],
      "gpuType": "T4"
    },
    "kernelspec": {
      "name": "python3",
      "display_name": "Python 3"
    },
    "language_info": {
      "name": "python"
    },
    "accelerator": "GPU"
  },
  "cells": [
    {
      "cell_type": "code",
      "source": [
        "# 미세먼지 예측 프로그램\n",
        "\n",
        "import torch\n",
        "import torch.nn as nn\n",
        "import torch.optim as optim\n",
        "import numpy as np\n",
        "import pandas as pd\n",
        "from sklearn.preprocessing import MinMaxScaler\n",
        "from sklearn.model_selection import train_test_split"
      ],
      "metadata": {
        "id": "e_fOPxmIdKoO"
      },
      "execution_count": 1,
      "outputs": []
    },
    {
      "cell_type": "code",
      "source": [
        "# 데이터 로드\n",
        "# 일간 미세먼지 시계열 데이터 최근 1달치 사용 (2023년 10월 제주)\n",
        "# 데이터 소스: 에어코리아 (https://www.airkorea.or.kr/web/pmRelay?itemCode=11008&pMENU_NO=109)\n",
        "\n",
        "from google.colab import files\n",
        "uploaded = files.upload()"
      ],
      "metadata": {
        "colab": {
          "base_uri": "https://localhost:8080/",
          "height": 77
        },
        "id": "hkc3Q5ihdNED",
        "outputId": "7f24344b-f46e-49e8-eeec-c85efd0d4906"
      },
      "execution_count": 2,
      "outputs": [
        {
          "output_type": "display_data",
          "data": {
            "text/plain": [
              "<IPython.core.display.HTML object>"
            ],
            "text/html": [
              "\n",
              "     <input type=\"file\" id=\"files-9195be91-e8b2-43c1-8a4f-0e2febbd0b57\" name=\"files[]\" multiple disabled\n",
              "        style=\"border:none\" />\n",
              "     <output id=\"result-9195be91-e8b2-43c1-8a4f-0e2febbd0b57\">\n",
              "      Upload widget is only available when the cell has been executed in the\n",
              "      current browser session. Please rerun this cell to enable.\n",
              "      </output>\n",
              "      <script>// Copyright 2017 Google LLC\n",
              "//\n",
              "// Licensed under the Apache License, Version 2.0 (the \"License\");\n",
              "// you may not use this file except in compliance with the License.\n",
              "// You may obtain a copy of the License at\n",
              "//\n",
              "//      http://www.apache.org/licenses/LICENSE-2.0\n",
              "//\n",
              "// Unless required by applicable law or agreed to in writing, software\n",
              "// distributed under the License is distributed on an \"AS IS\" BASIS,\n",
              "// WITHOUT WARRANTIES OR CONDITIONS OF ANY KIND, either express or implied.\n",
              "// See the License for the specific language governing permissions and\n",
              "// limitations under the License.\n",
              "\n",
              "/**\n",
              " * @fileoverview Helpers for google.colab Python module.\n",
              " */\n",
              "(function(scope) {\n",
              "function span(text, styleAttributes = {}) {\n",
              "  const element = document.createElement('span');\n",
              "  element.textContent = text;\n",
              "  for (const key of Object.keys(styleAttributes)) {\n",
              "    element.style[key] = styleAttributes[key];\n",
              "  }\n",
              "  return element;\n",
              "}\n",
              "\n",
              "// Max number of bytes which will be uploaded at a time.\n",
              "const MAX_PAYLOAD_SIZE = 100 * 1024;\n",
              "\n",
              "function _uploadFiles(inputId, outputId) {\n",
              "  const steps = uploadFilesStep(inputId, outputId);\n",
              "  const outputElement = document.getElementById(outputId);\n",
              "  // Cache steps on the outputElement to make it available for the next call\n",
              "  // to uploadFilesContinue from Python.\n",
              "  outputElement.steps = steps;\n",
              "\n",
              "  return _uploadFilesContinue(outputId);\n",
              "}\n",
              "\n",
              "// This is roughly an async generator (not supported in the browser yet),\n",
              "// where there are multiple asynchronous steps and the Python side is going\n",
              "// to poll for completion of each step.\n",
              "// This uses a Promise to block the python side on completion of each step,\n",
              "// then passes the result of the previous step as the input to the next step.\n",
              "function _uploadFilesContinue(outputId) {\n",
              "  const outputElement = document.getElementById(outputId);\n",
              "  const steps = outputElement.steps;\n",
              "\n",
              "  const next = steps.next(outputElement.lastPromiseValue);\n",
              "  return Promise.resolve(next.value.promise).then((value) => {\n",
              "    // Cache the last promise value to make it available to the next\n",
              "    // step of the generator.\n",
              "    outputElement.lastPromiseValue = value;\n",
              "    return next.value.response;\n",
              "  });\n",
              "}\n",
              "\n",
              "/**\n",
              " * Generator function which is called between each async step of the upload\n",
              " * process.\n",
              " * @param {string} inputId Element ID of the input file picker element.\n",
              " * @param {string} outputId Element ID of the output display.\n",
              " * @return {!Iterable<!Object>} Iterable of next steps.\n",
              " */\n",
              "function* uploadFilesStep(inputId, outputId) {\n",
              "  const inputElement = document.getElementById(inputId);\n",
              "  inputElement.disabled = false;\n",
              "\n",
              "  const outputElement = document.getElementById(outputId);\n",
              "  outputElement.innerHTML = '';\n",
              "\n",
              "  const pickedPromise = new Promise((resolve) => {\n",
              "    inputElement.addEventListener('change', (e) => {\n",
              "      resolve(e.target.files);\n",
              "    });\n",
              "  });\n",
              "\n",
              "  const cancel = document.createElement('button');\n",
              "  inputElement.parentElement.appendChild(cancel);\n",
              "  cancel.textContent = 'Cancel upload';\n",
              "  const cancelPromise = new Promise((resolve) => {\n",
              "    cancel.onclick = () => {\n",
              "      resolve(null);\n",
              "    };\n",
              "  });\n",
              "\n",
              "  // Wait for the user to pick the files.\n",
              "  const files = yield {\n",
              "    promise: Promise.race([pickedPromise, cancelPromise]),\n",
              "    response: {\n",
              "      action: 'starting',\n",
              "    }\n",
              "  };\n",
              "\n",
              "  cancel.remove();\n",
              "\n",
              "  // Disable the input element since further picks are not allowed.\n",
              "  inputElement.disabled = true;\n",
              "\n",
              "  if (!files) {\n",
              "    return {\n",
              "      response: {\n",
              "        action: 'complete',\n",
              "      }\n",
              "    };\n",
              "  }\n",
              "\n",
              "  for (const file of files) {\n",
              "    const li = document.createElement('li');\n",
              "    li.append(span(file.name, {fontWeight: 'bold'}));\n",
              "    li.append(span(\n",
              "        `(${file.type || 'n/a'}) - ${file.size} bytes, ` +\n",
              "        `last modified: ${\n",
              "            file.lastModifiedDate ? file.lastModifiedDate.toLocaleDateString() :\n",
              "                                    'n/a'} - `));\n",
              "    const percent = span('0% done');\n",
              "    li.appendChild(percent);\n",
              "\n",
              "    outputElement.appendChild(li);\n",
              "\n",
              "    const fileDataPromise = new Promise((resolve) => {\n",
              "      const reader = new FileReader();\n",
              "      reader.onload = (e) => {\n",
              "        resolve(e.target.result);\n",
              "      };\n",
              "      reader.readAsArrayBuffer(file);\n",
              "    });\n",
              "    // Wait for the data to be ready.\n",
              "    let fileData = yield {\n",
              "      promise: fileDataPromise,\n",
              "      response: {\n",
              "        action: 'continue',\n",
              "      }\n",
              "    };\n",
              "\n",
              "    // Use a chunked sending to avoid message size limits. See b/62115660.\n",
              "    let position = 0;\n",
              "    do {\n",
              "      const length = Math.min(fileData.byteLength - position, MAX_PAYLOAD_SIZE);\n",
              "      const chunk = new Uint8Array(fileData, position, length);\n",
              "      position += length;\n",
              "\n",
              "      const base64 = btoa(String.fromCharCode.apply(null, chunk));\n",
              "      yield {\n",
              "        response: {\n",
              "          action: 'append',\n",
              "          file: file.name,\n",
              "          data: base64,\n",
              "        },\n",
              "      };\n",
              "\n",
              "      let percentDone = fileData.byteLength === 0 ?\n",
              "          100 :\n",
              "          Math.round((position / fileData.byteLength) * 100);\n",
              "      percent.textContent = `${percentDone}% done`;\n",
              "\n",
              "    } while (position < fileData.byteLength);\n",
              "  }\n",
              "\n",
              "  // All done.\n",
              "  yield {\n",
              "    response: {\n",
              "      action: 'complete',\n",
              "    }\n",
              "  };\n",
              "}\n",
              "\n",
              "scope.google = scope.google || {};\n",
              "scope.google.colab = scope.google.colab || {};\n",
              "scope.google.colab._files = {\n",
              "  _uploadFiles,\n",
              "  _uploadFilesContinue,\n",
              "};\n",
              "})(self);\n",
              "</script> "
            ]
          },
          "metadata": {}
        },
        {
          "output_type": "stream",
          "name": "stdout",
          "text": [
            "Saving pm25_2310_jeju.xls to pm25_2310_jeju.xls\n"
          ]
        }
      ]
    },
    {
      "cell_type": "code",
      "source": [
        "# 업로드한 파일의 이름 추출\n",
        "file_name = list(uploaded.keys())[0]\n",
        "\n",
        "# 엑셀 파일 읽어오기\n",
        "df = pd.read_excel(file_name)\n",
        "\n",
        "# 측정 지점 지정 (예: 서귀포시 성산읍: 10행)\n",
        "target_row_number = 10\n",
        "\n",
        "# 측정지 선택 (행)\n",
        "target_row = df.iloc[target_row_number - 2].tolist()\n",
        "\n",
        "data_type = str(target_row[0])\n",
        "data_loc = str(target_row[1])\n",
        "pm25_data = np.array(target_row[2:])\n",
        "\n",
        "# 데이터 확인\n",
        "\n",
        "print(\"데이터 타입: \", data_type)\n",
        "print(\"측정 위치: \", data_loc)\n",
        "print(\"측정값(1~31일): \", pm25_data)"
      ],
      "metadata": {
        "colab": {
          "base_uri": "https://localhost:8080/"
        },
        "id": "D4CJhhQ1dZNT",
        "outputId": "ac0c7055-457b-4694-da17-a316b24e3bc0"
      },
      "execution_count": 11,
      "outputs": [
        {
          "output_type": "stream",
          "name": "stdout",
          "text": [
            "데이터 타입:  도시대기\n",
            "측정 위치:  [제주 서귀포시]성산읍\n",
            "측정값(1~31일):  [13  8 10  8 10  7 10  9  8 12 13 10 14 15 15 14  8  8  7  8  8  8  8 10\n",
            " 11 15 21 14 15 12 16]\n"
          ]
        }
      ]
    },
    {
      "cell_type": "code",
      "source": [
        "# 데이터 전처리\n",
        "scaler = MinMaxScaler()\n",
        "pm25_data_scaled = scaler.fit_transform(pm25_data.reshape(-1, 1))\n",
        "\n",
        "# 시계열 데이터를 활용하여 데이터셋 생성\n",
        "def create_sequence_data(data, seq_length):\n",
        "    sequences = []\n",
        "    labels = []\n",
        "\n",
        "    for i in range(len(data) - seq_length):\n",
        "        seq = data[i:i+seq_length]\n",
        "        label = data[i+seq_length:i+seq_length+1]\n",
        "        sequences.append(seq)\n",
        "        labels.append(label)\n",
        "\n",
        "    return torch.tensor(sequences), torch.tensor(labels)\n",
        "\n",
        "sequence_length = 5  # 시퀀스 길이 조정 가능\n",
        "X, y = create_sequence_data(pm25_data_scaled, sequence_length)"
      ],
      "metadata": {
        "id": "RDWKcrF_exHz"
      },
      "execution_count": 12,
      "outputs": []
    },
    {
      "cell_type": "code",
      "source": [
        "# 데이터를 학습용과 테스트용으로 분리\n",
        "X_train, X_test, y_train, y_test = train_test_split(X, y, test_size=0.2, shuffle=False)\n",
        "\n",
        "# LSTM 모델 정의\n",
        "class LSTMModel(nn.Module):\n",
        "    def __init__(self, input_size, hidden_size, num_layers, output_size):\n",
        "        super(LSTMModel, self).__init__()\n",
        "        self.lstm = nn.LSTM(input_size, hidden_size, num_layers, batch_first=True)\n",
        "        self.fc = nn.Linear(hidden_size, output_size)\n",
        "\n",
        "    def forward(self, x):\n",
        "        out, _ = self.lstm(x)\n",
        "        out = self.fc(out[:, -1, :])\n",
        "        return out"
      ],
      "metadata": {
        "id": "9anae_IRe1ZQ"
      },
      "execution_count": 13,
      "outputs": []
    },
    {
      "cell_type": "code",
      "source": [
        "# 모델, 손실 함수, 최적화 함수 정의\n",
        "input_size = 1\n",
        "hidden_size = 50\n",
        "num_layers = 2\n",
        "output_size = 1\n",
        "learning_rate = 0.001\n",
        "num_epochs = 200\n",
        "\n",
        "model = LSTMModel(input_size, hidden_size, num_layers, output_size)\n",
        "criterion = nn.MSELoss()\n",
        "optimizer = torch.optim.Adam(model.parameters(), lr=learning_rate)"
      ],
      "metadata": {
        "id": "ayDGhBMLe73L"
      },
      "execution_count": 14,
      "outputs": []
    },
    {
      "cell_type": "code",
      "source": [
        "# 학습\n",
        "for epoch in range(num_epochs):\n",
        "    model.train()\n",
        "    outputs = model(X_train.float())\n",
        "    optimizer.zero_grad()\n",
        "    loss = criterion(outputs, y_train.float())\n",
        "    loss.backward()\n",
        "    optimizer.step()\n",
        "\n",
        "    if (epoch+1) % 10 == 0:\n",
        "        print(f'Epoch [{epoch+1}/{num_epochs}], Loss: {loss.item():.4f}')"
      ],
      "metadata": {
        "colab": {
          "base_uri": "https://localhost:8080/"
        },
        "id": "bi55XLM7e9mp",
        "outputId": "9a7f437d-6787-432e-af29-b223e4101545"
      },
      "execution_count": 15,
      "outputs": [
        {
          "output_type": "stream",
          "name": "stderr",
          "text": [
            "/usr/local/lib/python3.10/dist-packages/torch/nn/modules/loss.py:535: UserWarning: Using a target size (torch.Size([20, 1, 1])) that is different to the input size (torch.Size([20, 1])). This will likely lead to incorrect results due to broadcasting. Please ensure they have the same size.\n",
            "  return F.mse_loss(input, target, reduction=self.reduction)\n"
          ]
        },
        {
          "output_type": "stream",
          "name": "stdout",
          "text": [
            "Epoch [10/200], Loss: 0.0398\n",
            "Epoch [20/200], Loss: 0.0395\n",
            "Epoch [30/200], Loss: 0.0366\n",
            "Epoch [40/200], Loss: 0.0366\n",
            "Epoch [50/200], Loss: 0.0364\n",
            "Epoch [60/200], Loss: 0.0364\n",
            "Epoch [70/200], Loss: 0.0364\n",
            "Epoch [80/200], Loss: 0.0364\n",
            "Epoch [90/200], Loss: 0.0364\n",
            "Epoch [100/200], Loss: 0.0364\n",
            "Epoch [110/200], Loss: 0.0364\n",
            "Epoch [120/200], Loss: 0.0364\n",
            "Epoch [130/200], Loss: 0.0364\n",
            "Epoch [140/200], Loss: 0.0364\n",
            "Epoch [150/200], Loss: 0.0364\n",
            "Epoch [160/200], Loss: 0.0364\n",
            "Epoch [170/200], Loss: 0.0364\n",
            "Epoch [180/200], Loss: 0.0364\n",
            "Epoch [190/200], Loss: 0.0364\n",
            "Epoch [200/200], Loss: 0.0364\n"
          ]
        }
      ]
    },
    {
      "cell_type": "code",
      "source": [
        "# 테스트\n",
        "model.eval()\n",
        "with torch.no_grad():\n",
        "    test_outputs = model(X_test.float())\n",
        "    mse = criterion(test_outputs, y_test.float())\n",
        "    print(f'테스트 데이터에 대한 MSE(Mean Squared Error): {mse.item():.4f}')"
      ],
      "metadata": {
        "colab": {
          "base_uri": "https://localhost:8080/"
        },
        "id": "2Wvsaui2e_iS",
        "outputId": "a7a1db01-ba55-4db0-ca54-c2e90af0c08f"
      },
      "execution_count": 16,
      "outputs": [
        {
          "output_type": "stream",
          "name": "stdout",
          "text": [
            "테스트 데이터에 대한 MSE(Mean Squared Error): 0.1844\n"
          ]
        },
        {
          "output_type": "stream",
          "name": "stderr",
          "text": [
            "/usr/local/lib/python3.10/dist-packages/torch/nn/modules/loss.py:535: UserWarning: Using a target size (torch.Size([6, 1, 1])) that is different to the input size (torch.Size([6, 1])). This will likely lead to incorrect results due to broadcasting. Please ensure they have the same size.\n",
            "  return F.mse_loss(input, target, reduction=self.reduction)\n"
          ]
        }
      ]
    },
    {
      "cell_type": "code",
      "source": [
        "# 내일의 미세먼지 예측\n",
        "model.eval()\n",
        "with torch.no_grad():\n",
        "    # 마지막 학습 데이터를 사용하여 내일의 미세먼지를 예측\n",
        "    last_sequence = torch.tensor(pm25_data_scaled[-sequence_length:], dtype=torch.float32).view(1, -1, 1)\n",
        "    tomorrow_prediction = model(last_sequence)\n",
        "    tomorrow_prediction = scaler.inverse_transform(tomorrow_prediction.numpy())\n",
        "    print(f'내일의 미세먼지 (PM25) 예측값: {tomorrow_prediction[0, 0]:.2f}')"
      ],
      "metadata": {
        "colab": {
          "base_uri": "https://localhost:8080/"
        },
        "id": "OKgLA6YGgGb6",
        "outputId": "eaa00d40-6672-42a2-9100-668bd1d9ffe3"
      },
      "execution_count": 17,
      "outputs": [
        {
          "output_type": "stream",
          "name": "stdout",
          "text": [
            "내일의 미세먼지 (PM25) 예측값: 10.17\n"
          ]
        }
      ]
    },
    {
      "cell_type": "code",
      "source": [
        "# 미래 7일간의 미세먼지 예측\n",
        "model.eval()\n",
        "with torch.no_grad():\n",
        "    # 마지막 학습 데이터를 사용하여 미래 7일간의 미세먼지를 예측\n",
        "    last_sequence = torch.tensor(pm25_data_scaled[-sequence_length:], dtype=torch.float32).view(1, -1, 1)\n",
        "    future_predictions = []\n",
        "\n",
        "    for _ in range(7):\n",
        "        prediction = model(last_sequence)\n",
        "        future_predictions.append(prediction.item())\n",
        "        last_sequence = torch.cat([last_sequence[:, 1:, :], prediction.view(1, 1, 1)], dim=1)\n",
        "\n",
        "# 스케일 역변환\n",
        "future_predictions = scaler.inverse_transform(np.array(future_predictions).reshape(-1, 1))\n",
        "\n",
        "# 결과 출력\n",
        "print(\"미래 7일간의 미세먼지(PM25) 예측값:\")\n",
        "for i, prediction in enumerate(future_predictions.flatten(), 1):\n",
        "    print(f\"Day {i}: {prediction:.2f}\")"
      ],
      "metadata": {
        "colab": {
          "base_uri": "https://localhost:8080/"
        },
        "id": "k2KJF8FCgjgN",
        "outputId": "fce858e3-eb0c-4408-a71d-e21ace877fb5"
      },
      "execution_count": 18,
      "outputs": [
        {
          "output_type": "stream",
          "name": "stdout",
          "text": [
            "미래 7일간의 미세먼지(PM25) 예측값:\n",
            "Day 1: 10.17\n",
            "Day 2: 10.16\n",
            "Day 3: 10.16\n",
            "Day 4: 10.16\n",
            "Day 5: 10.15\n",
            "Day 6: 10.15\n",
            "Day 7: 10.15\n"
          ]
        }
      ]
    },
    {
      "cell_type": "code",
      "source": [
        "# 아래표는 11월 1~7일까지 실측된 미세먼지 수치"
      ],
      "metadata": {
        "id": "yr9gg8VLoGtg"
      },
      "execution_count": null,
      "outputs": []
    },
    {
      "cell_type": "markdown",
      "source": [
        "![image.png](data:image/png;base64,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)"
      ],
      "metadata": {
        "id": "KUi8zCKAol-U"
      }
    }
  ]
}